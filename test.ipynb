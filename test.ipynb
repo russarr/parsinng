{
 "cells": [
  {
   "cell_type": "code",
   "execution_count": 1,
   "outputs": [
    {
     "name": "stdout",
     "output_type": "stream",
     "text": [
      "[DEBUG] [common:parse_book_url:64]: \"парсим url https://storiesonline.net/s/26307/variation-on-a-theme-book-3\"\n",
      "[DEBUG] [common:parse_book_url:70]: \"результат парсинга:site_name='https://storiesonline.net', book_link='/s/26307/variation-on-a-theme-book-3'\"\n",
      "[DEBUG] [sol_requests_soup:get_book_soup:13]: \"Получаем book_soup\"\n",
      "[DEBUG] [sol_book:_get_sol_book_info:45]: \"Получаем информацию о книге\"\n",
      "[DEBUG] [sol_requests_soup:get_book_soup:13]: \"Получаем book_soup\"\n",
      "[DEBUG] [sol_book:_get_author_title:72]: \"Получаем название и имя автора\"\n",
      "[DEBUG] [sol_book:_get_author_title:80]: \"self.author_name='Grey Wolf', self.author_link='/a/grey-wolf', self.book_title='Variation on a Theme, Book 3'\"\n",
      "[DEBUG] [sol_book:_get_chapters_links:86]: \"получаем список ссылок на главы\"\n",
      "[DEBUG] [sol_book:_get_chapters_links:90]: \"self.chapters_links=(ChapterLinkName(chapter_link='/s/26307:249399/foreword-variation-on-a-theme-book-3', chapter_name='Foreword', chapter_order_position=0), ChapterLinkName(chapter_link='/s/26307:249400/chapter-1-variation-on-a-theme-book-3', chapter_name='Chapter 1', chapter_order_position=1), ChapterLinkName(chapter_link='/s/26307:249434/chapter-2-variation-on-a-theme-book-3', chapter_name='Chapter 2', chapter_order_position=2), ChapterLinkName(chapter_link='/s/26307:249502/chapter-3-variation-on-a-theme-book-3', chapter_name='Chapter 3', chapter_order_position=3), ChapterLinkName(chapter_link='/s/26307:249691/chapter-4-variation-on-a-theme-book-3', chapter_name='Chapter 4', chapter_order_position=4), ChapterLinkName(chapter_link='/s/26307:249741/chapter-5-variation-on-a-theme-book-3', chapter_name='Chapter 5', chapter_order_position=5), ChapterLinkName(chapter_link='/s/26307:249807/chapter-6-variation-on-a-theme-book-3', chapter_name='Chapter 6', chapter_order_position=6), ChapterLinkName(chapter_link='/s/26307:249929/chapter-7-variation-on-a-theme-book-3', chapter_name='Chapter 7', chapter_order_position=7), ChapterLinkName(chapter_link='/s/26307:249995/chapter-8-variation-on-a-theme-book-3', chapter_name='Chapter 8', chapter_order_position=8), ChapterLinkName(chapter_link='/s/26307:250060/chapter-9-variation-on-a-theme-book-3', chapter_name='Chapter 9', chapter_order_position=9), ChapterLinkName(chapter_link='/s/26307:250162/chapter-10-variation-on-a-theme-book-3', chapter_name='Chapter 10', chapter_order_position=10), ChapterLinkName(chapter_link='/s/26307:250231/chapter-11-variation-on-a-theme-book-3', chapter_name='Chapter 11', chapter_order_position=11), ChapterLinkName(chapter_link='/s/26307:250280/chapter-12-variation-on-a-theme-book-3', chapter_name='Chapter 12', chapter_order_position=12), ChapterLinkName(chapter_link='/s/26307:250335/chapter-13-variation-on-a-theme-book-3', chapter_name='Chapter 13', chapter_order_position=13), ChapterLinkName(chapter_link='/s/26307:250440/chapter-14-variation-on-a-theme-book-3', chapter_name='Chapter 14', chapter_order_position=14), ChapterLinkName(chapter_link='/s/26307:250527/chapter-15-variation-on-a-theme-book-3', chapter_name='Chapter 15', chapter_order_position=15), ChapterLinkName(chapter_link='/s/26307:250665/chapter-16-variation-on-a-theme-book-3', chapter_name='Chapter 16', chapter_order_position=16), ChapterLinkName(chapter_link='/s/26307:250793/chapter-17-variation-on-a-theme-book-3', chapter_name='Chapter 17', chapter_order_position=17), ChapterLinkName(chapter_link='/s/26307:250873/chapter-18-variation-on-a-theme-book-3', chapter_name='Chapter 18', chapter_order_position=18), ChapterLinkName(chapter_link='/s/26307:251014/chapter-19-variation-on-a-theme-book-3', chapter_name='Chapter 19', chapter_order_position=19), ChapterLinkName(chapter_link='/s/26307:251060/chapter-20-variation-on-a-theme-book-3', chapter_name='Chapter 20', chapter_order_position=20), ChapterLinkName(chapter_link='/s/26307:251154/chapter-21-variation-on-a-theme-book-3', chapter_name='Chapter 21', chapter_order_position=21), ChapterLinkName(chapter_link='/s/26307:251283/chapter-22-variation-on-a-theme-book-3', chapter_name='Chapter 22', chapter_order_position=22), ChapterLinkName(chapter_link='/s/26307:251333/chapter-23-variation-on-a-theme-book-3', chapter_name='Chapter 23', chapter_order_position=23), ChapterLinkName(chapter_link='/s/26307:251450/chapter-24-variation-on-a-theme-book-3', chapter_name='Chapter 24', chapter_order_position=24), ChapterLinkName(chapter_link='/s/26307:251616/chapter-25-variation-on-a-theme-book-3', chapter_name='Chapter 25', chapter_order_position=25), ChapterLinkName(chapter_link='/s/26307:251724/chapter-26-variation-on-a-theme-book-3', chapter_name='Chapter 26', chapter_order_position=26), ChapterLinkName(chapter_link='/s/26307:251857/chapter-27-variation-on-a-theme-book-3', chapter_name='Chapter 27', chapter_order_position=27), ChapterLinkName(chapter_link='/s/26307:251917/chapter-28-variation-on-a-theme-book-3', chapter_name='Chapter 28', chapter_order_position=28), ChapterLinkName(chapter_link='/s/26307:252032/chapter-29-variation-on-a-theme-book-3', chapter_name='Chapter 29', chapter_order_position=29), ChapterLinkName(chapter_link='/s/26307:252124/chapter-30-variation-on-a-theme-book-3', chapter_name='Chapter 30', chapter_order_position=30), ChapterLinkName(chapter_link='/s/26307:252308/chapter-31-variation-on-a-theme-book-3', chapter_name='Chapter 31', chapter_order_position=31), ChapterLinkName(chapter_link='/s/26307:252423/chapter-32-variation-on-a-theme-book-3', chapter_name='Chapter 32', chapter_order_position=32), ChapterLinkName(chapter_link='/s/26307:252558/chapter-33-variation-on-a-theme-book-3', chapter_name='Chapter 33', chapter_order_position=33), ChapterLinkName(chapter_link='/s/26307:252704/chapter-34-variation-on-a-theme-book-3', chapter_name='Chapter 34', chapter_order_position=34), ChapterLinkName(chapter_link='/s/26307:252815/chapter-35-variation-on-a-theme-book-3', chapter_name='Chapter 35', chapter_order_position=35), ChapterLinkName(chapter_link='/s/26307:252937/chapter-36-variation-on-a-theme-book-3', chapter_name='Chapter 36', chapter_order_position=36), ChapterLinkName(chapter_link='/s/26307:253145/chapter-37-variation-on-a-theme-book-3', chapter_name='Chapter 37', chapter_order_position=37), ChapterLinkName(chapter_link='/s/26307:253239/chapter-38-variation-on-a-theme-book-3', chapter_name='Chapter 38', chapter_order_position=38), ChapterLinkName(chapter_link='/s/26307:253304/chapter-39-variation-on-a-theme-book-3', chapter_name='Chapter 39', chapter_order_position=39), ChapterLinkName(chapter_link='/s/26307:253444/chapter-40-variation-on-a-theme-book-3', chapter_name='Chapter 40', chapter_order_position=40), ChapterLinkName(chapter_link='/s/26307:253591/chapter-41-variation-on-a-theme-book-3', chapter_name='Chapter 41', chapter_order_position=41), ChapterLinkName(chapter_link='/s/26307:253656/chapter-42-variation-on-a-theme-book-3', chapter_name='Chapter 42', chapter_order_position=42), ChapterLinkName(chapter_link='/s/26307:253747/chapter-43-variation-on-a-theme-book-3', chapter_name='Chapter 43', chapter_order_position=43), ChapterLinkName(chapter_link='/s/26307:253840/chapter-44-variation-on-a-theme-book-3', chapter_name='Chapter 44', chapter_order_position=44), ChapterLinkName(chapter_link='/s/26307:253971/chapter-45-variation-on-a-theme-book-3', chapter_name='Chapter 45', chapter_order_position=45), ChapterLinkName(chapter_link='/s/26307:254123/chapter-46-variation-on-a-theme-book-3', chapter_name='Chapter 46', chapter_order_position=46), ChapterLinkName(chapter_link='/s/26307:254219/chapter-47-variation-on-a-theme-book-3', chapter_name='Chapter 47', chapter_order_position=47), ChapterLinkName(chapter_link='/s/26307:254296/chapter-48-variation-on-a-theme-book-3', chapter_name='Chapter 48', chapter_order_position=48), ChapterLinkName(chapter_link='/s/26307:254436/chapter-49-variation-on-a-theme-book-3', chapter_name='Chapter 49', chapter_order_position=49), ChapterLinkName(chapter_link='/s/26307:254529/chapter-50-variation-on-a-theme-book-3', chapter_name='Chapter 50', chapter_order_position=50), ChapterLinkName(chapter_link='/s/26307:254614/chapter-51-variation-on-a-theme-book-3', chapter_name='Chapter 51', chapter_order_position=51), ChapterLinkName(chapter_link='/s/26307:254703/chapter-52-variation-on-a-theme-book-3', chapter_name='Chapter 52', chapter_order_position=52), ChapterLinkName(chapter_link='/s/26307:254807/chapter-53-variation-on-a-theme-book-3', chapter_name='Chapter 53', chapter_order_position=53), ChapterLinkName(chapter_link='/s/26307:254912/chapter-54-variation-on-a-theme-book-3', chapter_name='Chapter 54', chapter_order_position=54), ChapterLinkName(chapter_link='/s/26307:255000/chapter-55-variation-on-a-theme-book-3', chapter_name='Chapter 55', chapter_order_position=55), ChapterLinkName(chapter_link='/s/26307:255084/chapter-56-variation-on-a-theme-book-3', chapter_name='Chapter 56', chapter_order_position=56), ChapterLinkName(chapter_link='/s/26307:255153/chapter-57-variation-on-a-theme-book-3', chapter_name='Chapter 57', chapter_order_position=57), ChapterLinkName(chapter_link='/s/26307:255253/chapter-58-variation-on-a-theme-book-3', chapter_name='Chapter 58', chapter_order_position=58), ChapterLinkName(chapter_link='/s/26307:255330/chapter-59-variation-on-a-theme-book-3', chapter_name='Chapter 59', chapter_order_position=59), ChapterLinkName(chapter_link='/s/26307:255386/chapter-60-variation-on-a-theme-book-3', chapter_name='Chapter 60', chapter_order_position=60), ChapterLinkName(chapter_link='/s/26307:255460/chapter-61-variation-on-a-theme-book-3', chapter_name='Chapter 61', chapter_order_position=61), ChapterLinkName(chapter_link='/s/26307:255526/chapter-62-variation-on-a-theme-book-3', chapter_name='Chapter 62', chapter_order_position=62), ChapterLinkName(chapter_link='/s/26307:255593/chapter-63-variation-on-a-theme-book-3', chapter_name='Chapter 63', chapter_order_position=63), ChapterLinkName(chapter_link='/s/26307:255731/chapter-64-variation-on-a-theme-book-3', chapter_name='Chapter 64', chapter_order_position=64), ChapterLinkName(chapter_link='/s/26307:255807/chapter-65-variation-on-a-theme-book-3', chapter_name='Chapter 65', chapter_order_position=65), ChapterLinkName(chapter_link='/s/26307:255865/chapter-66-variation-on-a-theme-book-3', chapter_name='Chapter 66', chapter_order_position=66), ChapterLinkName(chapter_link='/s/26307:256018/chapter-67-variation-on-a-theme-book-3', chapter_name='Chapter 67', chapter_order_position=67), ChapterLinkName(chapter_link='/s/26307:256143/chapter-68-variation-on-a-theme-book-3', chapter_name='Chapter 68', chapter_order_position=68), ChapterLinkName(chapter_link='/s/26307:256205/chapter-69-variation-on-a-theme-book-3', chapter_name='Chapter 69', chapter_order_position=69), ChapterLinkName(chapter_link='/s/26307:256298/chapter-70-variation-on-a-theme-book-3', chapter_name='Chapter 70', chapter_order_position=70), ChapterLinkName(chapter_link='/s/26307:256373/chapter-71-variation-on-a-theme-book-3', chapter_name='Chapter 71', chapter_order_position=71), ChapterLinkName(chapter_link='/s/26307:256442/chapter-72-variation-on-a-theme-book-3', chapter_name='Chapter 72', chapter_order_position=72), ChapterLinkName(chapter_link='/s/26307:256548/chapter-73-variation-on-a-theme-book-3', chapter_name='Chapter 73', chapter_order_position=73), ChapterLinkName(chapter_link='/s/26307:256691/chapter-74-variation-on-a-theme-book-3', chapter_name='Chapter 74', chapter_order_position=74), ChapterLinkName(chapter_link='/s/26307:256812/chapter-75-variation-on-a-theme-book-3', chapter_name='Chapter 75', chapter_order_position=75), ChapterLinkName(chapter_link='/s/26307:256933/chapter-76-variation-on-a-theme-book-3', chapter_name='Chapter 76', chapter_order_position=76), ChapterLinkName(chapter_link='/s/26307:257016/chapter-77-variation-on-a-theme-book-3', chapter_name='Chapter 77', chapter_order_position=77), ChapterLinkName(chapter_link='/s/26307:257109/chapter-78-variation-on-a-theme-book-3', chapter_name='Chapter 78', chapter_order_position=78), ChapterLinkName(chapter_link='/s/26307:257252/chapter-79-variation-on-a-theme-book-3', chapter_name='Chapter 79', chapter_order_position=79), ChapterLinkName(chapter_link='/s/26307:257339/chapter-80-variation-on-a-theme-book-3', chapter_name='Chapter 80', chapter_order_position=80), ChapterLinkName(chapter_link='/s/26307:257396/chapter-81-variation-on-a-theme-book-3', chapter_name='Chapter 81', chapter_order_position=81), ChapterLinkName(chapter_link='/s/26307:257559/chapter-82-variation-on-a-theme-book-3', chapter_name='Chapter 82', chapter_order_position=82), ChapterLinkName(chapter_link='/s/26307:257610/chapter-83-variation-on-a-theme-book-3', chapter_name='Chapter 83', chapter_order_position=83), ChapterLinkName(chapter_link='/s/26307:257687/chapter-84-variation-on-a-theme-book-3', chapter_name='Chapter 84', chapter_order_position=84), ChapterLinkName(chapter_link='/s/26307:257807/chapter-85-variation-on-a-theme-book-3', chapter_name='Chapter 85', chapter_order_position=85), ChapterLinkName(chapter_link='/s/26307:257864/chapter-86-variation-on-a-theme-book-3', chapter_name='Chapter 86', chapter_order_position=86), ChapterLinkName(chapter_link='/s/26307:257936/chapter-87-variation-on-a-theme-book-3', chapter_name='Chapter 87', chapter_order_position=87), ChapterLinkName(chapter_link='/s/26307:258105/chapter-88-variation-on-a-theme-book-3', chapter_name='Chapter 88', chapter_order_position=88), ChapterLinkName(chapter_link='/s/26307:258182/chapter-89-variation-on-a-theme-book-3', chapter_name='Chapter 89', chapter_order_position=89), ChapterLinkName(chapter_link='/s/26307:258265/chapter-90-variation-on-a-theme-book-3', chapter_name='Chapter 90', chapter_order_position=90), ChapterLinkName(chapter_link='/s/26307:258369/chapter-91-variation-on-a-theme-book-3', chapter_name='Chapter 91', chapter_order_position=91), ChapterLinkName(chapter_link='/s/26307:258445/chapter-92-variation-on-a-theme-book-3', chapter_name='Chapter 92', chapter_order_position=92), ChapterLinkName(chapter_link='/s/26307:258527/chapter-93-variation-on-a-theme-book-3', chapter_name='Chapter 93', chapter_order_position=93), ChapterLinkName(chapter_link='/s/26307:258628/chapter-94-variation-on-a-theme-book-3', chapter_name='Chapter 94', chapter_order_position=94), ChapterLinkName(chapter_link='/s/26307:258714/chapter-95-variation-on-a-theme-book-3', chapter_name='Chapter 95', chapter_order_position=95), ChapterLinkName(chapter_link='/s/26307:258844/chapter-96-variation-on-a-theme-book-3', chapter_name='Chapter 96', chapter_order_position=96), ChapterLinkName(chapter_link='/s/26307:258970/chapter-97-variation-on-a-theme-book-3', chapter_name='Chapter 97', chapter_order_position=97), ChapterLinkName(chapter_link='/s/26307:259041/chapter-98-variation-on-a-theme-book-3', chapter_name='Chapter 98', chapter_order_position=98), ChapterLinkName(chapter_link='/s/26307:259114/chapter-99-variation-on-a-theme-book-3', chapter_name='Chapter 99', chapter_order_position=99), ChapterLinkName(chapter_link='/s/26307:259217/chapter-100-variation-on-a-theme-book-3', chapter_name='Chapter 100', chapter_order_position=100), ChapterLinkName(chapter_link='/s/26307:259288/chapter-101-variation-on-a-theme-book-3', chapter_name='Chapter 101', chapter_order_position=101), ChapterLinkName(chapter_link='/s/26307:259439/chapter-102-variation-on-a-theme-book-3', chapter_name='Chapter 102', chapter_order_position=102))\"\n",
      "[DEBUG] [sol_book:_create_book_directories:96]: \"создаем директории на диске\"\n",
      "[DEBUG] [sol_book:_create_book_directories:108]: \"self.book_directory=WindowsPath('book_database/grey-wolf/variation-on-a-theme-book-3')\"\n",
      "[DEBUG] [sol_book:_get_book_cover:111]: \"сохраянем обложку книги\"\n",
      "[DEBUG] [sol_book:_get_book_cover:128]: \"обложки нет\"\n",
      "[DEBUG] [sol_book:_get_book_details:131]: \"Получаем описание и детали книги\"\n",
      "[DEBUG] [sol_book:_get_sol_book_id:244]: \"book_id='26307'\"\n",
      "[DEBUG] [sol_book:_get_book_details:146]: \"self.book_description=\"Nearly two years after getting a second chance at life, Steve enters Junior year in a world diverging from that of his first life. He's got a steady girlfriend with hopes for the future, a sister he deeply loves, an every-increasing circle of friends - and a few enemies, too. With all this comes new opportunities, both personal and financial, and new challenges. It's sure to be a busy year! Likely about 450,000 words. Posting schedule: 3 chapters / week (M/W/F AM). Voting on once Ch. 10 posts.\"\n",
      "self.book_sex_content='Some Sex'\n",
      "self.book_genre='Coming of Age'\n",
      "self.book_tags=('mt/ft', 'ft/ft', 'Mult', 'Teenagers', 'Consensual', 'Romantic', 'School', 'DoOver', 'Spanking', 'Oriental Female', 'Anal Sex', 'Cream Pie', 'Oral Sex', 'Petting', 'Safe Sex', 'Slow')\n",
      "self.book_size=2181\n",
      "self.book_votes_count=1244\n",
      "self.book_score=8.5\"\n",
      "[DEBUG] [sol_book:_get_book_details:147]: \"self.book_posted_date=1635706800\n",
      "self.book_updated_date=1655406000\n",
      "self.book_status='In progress'\"\n"
     ]
    },
    {
     "name": "stderr",
     "output_type": "stream",
     "text": [
      "C:\\Users\\Necros\\GDrive\\coding\\parsing3\\venv\\lib\\site-packages\\bs4\\builder\\__init__.py:545: XMLParsedAsHTMLWarning: It looks like you're parsing an XML document using an HTML parser. If this really is an HTML document (maybe it's XHTML?), you can ignore or filter this warning. If it's XML, you should know that using an XML parser will be more reliable. To parse this document as XML, make sure you have the lxml package installed, and pass the keyword argument `features=\"xml\"` into the BeautifulSoup constructor.\n",
      "  warnings.warn(\n"
     ]
    },
    {
     "name": "stdout",
     "output_type": "stream",
     "text": [
      "[DEBUG] [sol_requests_soup:_get_chapter_content_2:30]: \"Есть защита от ботов\"\n",
      "[DEBUG] [sol_requests_soup:_get_requests_data_1:62]: \"Получаем блок данных с токеном\"\n",
      "[DEBUG] [sol_requests_soup:_extract_data_1:81]: \"извлекаем токен\"\n",
      "[DEBUG] [sol_requests_soup:_get_requests_data_1:67]: \"Токен data=[('cmd', 'gt'), ('data[]', '26307'), ('data[]', '38'), ('data[]', '747153'), ('data[]', 'undefined'), ('data[]', 'eAjLU9ta3T%2BIs2purSCdoAKE2sHp0zNwJo2EbL%2BWUqLWd80x4CSy0lbXvhwg%2FqPUdA%2FoHCkdxJCML0drDYnp%2BauQIXZhNQL2lI5WrDBT6zpHhtbV5fyqQ1YRi0sJJC21ISBCPkj5yhUkxw1AoIed6bLyIVVwQQze2KKIqt%2Bgbu0%3D')]\"\n",
      "[DEBUG] [sol_requests_soup:_bypass_bot_protection:43]: \"Обошли первый шаг защиты\"\n",
      "[DEBUG] [sol_requests_soup:_bypass_bot_protection:45]: \"Обошли второй шаг защиты\"\n",
      "[DEBUG] [sol_requests_soup:_bypass_bot_protection:50]: \"добавили скрытую часть текста\"\n"
     ]
    }
   ],
   "source": [
    "import logging.config\n",
    "import time\n",
    "\n",
    "import bs4\n",
    "\n",
    "from utils.settings import LOGGING_CONFIG\n",
    "from dataclasses import dataclass, field\n",
    "logging.config.dictConfig(LOGGING_CONFIG)\n",
    "logger = logging.getLogger('logger')\n",
    "\n",
    "from common.common import BookInfo, Book\n",
    "from db_moduls.db_common import BookDBCommon\n",
    "from selenium_modules.selenium_general import get_driver\n",
    "from site_parsers.sol.sol_selenium_authorisation import sol_auth\n",
    "from bs4 import BeautifulSoup\n",
    "from site_parsers.sol.sol_book import SolBook\n",
    "from common.common import parse_book_url\n",
    "import requests\n",
    "from site_parsers.sol.sol_book import SolBook\n",
    "import pickle\n",
    "from utils.exceptions import ParsingException\n",
    "from requests import Session\n",
    "\n",
    "book_url = 'https://storiesonline.net/s/26307/variation-on-a-theme-book-3'\n",
    "chapter_link = '/s/26307:253145/chapter-37-variation-on-a-theme-book-3'\n",
    "\n",
    "site_name, book_link = parse_book_url(book_url)\n",
    "b = SolBook(book_link)\n",
    "book_soup = b.get_book_soup()\n",
    "b._get_sol_book_info()\n",
    "session = b.create_sol_requests_session()\n",
    "chapter_soup = b.get_chapter_soup(chapter_link, session)"
   ],
   "metadata": {
    "collapsed": false,
    "pycharm": {
     "name": "#%%\n"
    }
   }
  },
  {
   "cell_type": "code",
   "execution_count": 2,
   "outputs": [],
   "source": [
    "import copy\n",
    "chapter_soup_tes = copy.copy(chapter_soup)"
   ],
   "metadata": {
    "collapsed": false,
    "pycharm": {
     "name": "#%%\n"
    }
   }
  },
  {
   "cell_type": "code",
   "execution_count": 4,
   "outputs": [],
   "source": [
    "with open('temp/test.html', 'w') as file:\n",
    "    file.write(str(chapter_soup_tes))"
   ],
   "metadata": {
    "collapsed": false,
    "pycharm": {
     "name": "#%%\n"
    }
   }
  },
  {
   "cell_type": "code",
   "execution_count": 134,
   "outputs": [],
   "source": [
    "tag = chapter_soup_tes.find('div', id=\"sr\")"
   ],
   "metadata": {
    "collapsed": false,
    "pycharm": {
     "name": "#%%\n"
    }
   }
  },
  {
   "cell_type": "code",
   "execution_count": 136,
   "outputs": [
    {
     "data": {
      "text/plain": "<div id=\"sr\"><div class=\"c b\"><i>There is more of this text...</i><br/><a href=\"javascript:void(0)\" onclick=\"ld1()\" style=\"clear:both;display:block;margin:15px auto auto auto;box-shadow:0 0 .3em #777;padding:5px;border-radius:.3em;font-weight:bold;font-family:sans-serif;text-align:center;max-width:15em\">Click to Load text...</a><br/><a href=\"/d/s1/t9203/new-site-behaviour-click\">Why?</a></div></div>"
     },
     "execution_count": 136,
     "metadata": {},
     "output_type": "execute_result"
    }
   ],
   "source": [
    "new_tag = chapter_soup_tes.find('title')\n",
    "tag.replace_with(new_tag)"
   ],
   "metadata": {
    "collapsed": false,
    "pycharm": {
     "name": "#%%\n"
    }
   }
  },
  {
   "cell_type": "code",
   "execution_count": 78,
   "outputs": [],
   "source": [
    "tag.string = 'test'\n"
   ],
   "metadata": {
    "collapsed": false,
    "pycharm": {
     "name": "#%%\n"
    }
   }
  },
  {
   "cell_type": "code",
   "execution_count": null,
   "outputs": [],
   "source": [],
   "metadata": {
    "collapsed": false,
    "pycharm": {
     "name": "#%%\n"
    }
   }
  }
 ],
 "metadata": {
  "kernelspec": {
   "display_name": "Python 3",
   "language": "python",
   "name": "python3"
  },
  "language_info": {
   "codemirror_mode": {
    "name": "ipython",
    "version": 2
   },
   "file_extension": ".py",
   "mimetype": "text/x-python",
   "name": "python",
   "nbconvert_exporter": "python",
   "pygments_lexer": "ipython2",
   "version": "2.7.6"
  }
 },
 "nbformat": 4,
 "nbformat_minor": 0
}
